{
 "cells": [
  {
   "cell_type": "markdown",
   "metadata": {},
   "source": [
    "# Python from scratch"
   ]
  },
  {
   "cell_type": "markdown",
   "metadata": {},
   "source": [
    "## Go further"
   ]
  },
  {
   "cell_type": "markdown",
   "metadata": {},
   "source": [
    "### Exception handling"
   ]
  },
  {
   "cell_type": "code",
   "execution_count": 32,
   "metadata": {},
   "outputs": [],
   "source": [
    "def division(x, y):\n",
    "    \n",
    "    try:\n",
    "        print(f\"the result is {x / y}\")\n",
    "    \n",
    "    # exception for division by zero\n",
    "    except ZeroDivisionError:\n",
    "        print(\"error: division by 0\")\n",
    "        return None\n",
    "    \n",
    "    # exception for unproper type of argument\n",
    "    except TypeError:\n",
    "        print(\"error: type of argument\")\n",
    "        return None\n",
    "    \n",
    "    # finally statement\n",
    "    finally:\n",
    "        print(\"calculation completed\")"
   ]
  },
  {
   "cell_type": "code",
   "execution_count": 34,
   "metadata": {},
   "outputs": [
    {
     "name": "stdout",
     "output_type": "stream",
     "text": [
      "the result is 7.5\n",
      "calculation completed\n",
      "None\n"
     ]
    }
   ],
   "source": [
    "print(division(15, 2))"
   ]
  },
  {
   "cell_type": "markdown",
   "metadata": {},
   "source": [
    "### Regular expressions"
   ]
  },
  {
   "cell_type": "code",
   "execution_count": 5,
   "metadata": {},
   "outputs": [],
   "source": [
    "import re"
   ]
  },
  {
   "cell_type": "markdown",
   "metadata": {},
   "source": [
    "##### First example"
   ]
  },
  {
   "cell_type": "code",
   "execution_count": 6,
   "metadata": {},
   "outputs": [
    {
     "name": "stdout",
     "output_type": "stream",
     "text": [
      "<re.Match object; span=(0, 18), match='alpha.bah@gmail.fr'>\n"
     ]
    }
   ],
   "source": [
    "pattern = \"^[a-z0-9._-]+@+[a-z0-9._-]+\\.(com|fr)$\"\n",
    "string = \"alpha.bah@gmail.fr\"\n",
    "\n",
    "print(re.match(pattern, string))"
   ]
  },
  {
   "cell_type": "markdown",
   "metadata": {},
   "source": [
    "#### Second example"
   ]
  },
  {
   "cell_type": "code",
   "execution_count": 81,
   "metadata": {},
   "outputs": [
    {
     "name": "stdout",
     "output_type": "stream",
     "text": [
      "None\n",
      "<re.Match object; span=(4, 23), match='ww.es.wikipedia.org'>\n"
     ]
    }
   ],
   "source": [
    "pattern = \"(http(s|)://)?[a-z0-9._-]+[a-z0-9]\\.(com|org|fr)\" #\"\\.(com|fr)\"\n",
    "\n",
    "string = \"    ww.es.wikipedia.org\"\n",
    "\n",
    "print(re.match(pattern, string))\n",
    "print(re.search(pattern, string))"
   ]
  },
  {
   "cell_type": "code",
   "execution_count": 63,
   "metadata": {},
   "outputs": [
    {
     "name": "stdout",
     "output_type": "stream",
     "text": [
      "<re.Match object; span=(4, 7), match='cat'>\n",
      "None\n"
     ]
    }
   ],
   "source": [
    "string = \"the cat is in the hood\"\n",
    "string2 = \"catastrophe\"\n",
    "\n",
    "pattern = r\"\\bcat\\b\"\n",
    "\n",
    "print(re.search(pattern, string))\n",
    "print(re.search(pattern, string2))"
   ]
  },
  {
   "cell_type": "code",
   "execution_count": 68,
   "metadata": {},
   "outputs": [
    {
     "name": "stdout",
     "output_type": "stream",
     "text": [
      "c\n",
      "a\\bc\n"
     ]
    }
   ],
   "source": [
    "print(\"a\\bc\")\n",
    "print(r\"a\\bc\")"
   ]
  },
  {
   "cell_type": "code",
   "execution_count": null,
   "metadata": {},
   "outputs": [],
   "source": []
  }
 ],
 "metadata": {
  "kernelspec": {
   "display_name": "Python 3",
   "language": "python",
   "name": "python3"
  },
  "language_info": {
   "codemirror_mode": {
    "name": "ipython",
    "version": 3
   },
   "file_extension": ".py",
   "mimetype": "text/x-python",
   "name": "python",
   "nbconvert_exporter": "python",
   "pygments_lexer": "ipython3",
   "version": "3.7.6"
  }
 },
 "nbformat": 4,
 "nbformat_minor": 4
}
