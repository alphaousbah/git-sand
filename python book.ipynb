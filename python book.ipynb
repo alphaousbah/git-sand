{
 "cells": [
  {
   "cell_type": "markdown",
   "metadata": {},
   "source": [
    "# Chapter 1. Python from scratch"
   ]
  },
  {
   "cell_type": "markdown",
   "metadata": {},
   "source": [
    "## Go further"
   ]
  },
  {
   "cell_type": "markdown",
   "metadata": {},
   "source": [
    "### Exception handling"
   ]
  },
  {
   "cell_type": "code",
   "execution_count": 32,
   "metadata": {},
   "outputs": [],
   "source": [
    "def division(x, y):\n",
    "    \n",
    "    try:\n",
    "        print(f\"the result is {x / y}\")\n",
    "    \n",
    "    # exception for division by zero\n",
    "    except ZeroDivisionError:\n",
    "        print(\"error: division by 0\")\n",
    "        return None\n",
    "    \n",
    "    # exception for unproper type of argument\n",
    "    except TypeError:\n",
    "        print(\"error: type of argument\")\n",
    "        return None\n",
    "    \n",
    "    # finally statement\n",
    "    finally:\n",
    "        print(\"calculation completed\")"
   ]
  },
  {
   "cell_type": "code",
   "execution_count": 34,
   "metadata": {},
   "outputs": [
    {
     "name": "stdout",
     "output_type": "stream",
     "text": [
      "the result is 7.5\n",
      "calculation completed\n",
      "None\n"
     ]
    }
   ],
   "source": [
    "print(division(15, 2))"
   ]
  },
  {
   "cell_type": "markdown",
   "metadata": {},
   "source": [
    "### Regular expressions"
   ]
  },
  {
   "cell_type": "code",
   "execution_count": 5,
   "metadata": {},
   "outputs": [],
   "source": [
    "import re"
   ]
  },
  {
   "cell_type": "markdown",
   "metadata": {},
   "source": [
    "##### First example"
   ]
  },
  {
   "cell_type": "code",
   "execution_count": 6,
   "metadata": {},
   "outputs": [
    {
     "name": "stdout",
     "output_type": "stream",
     "text": [
      "<re.Match object; span=(0, 18), match='alpha.bah@gmail.fr'>\n"
     ]
    }
   ],
   "source": [
    "pattern = \"^[a-z0-9._-]+@+[a-z0-9._-]+\\.(com|fr)$\"\n",
    "string = \"alpha.bah@gmail.fr\"\n",
    "\n",
    "print(re.match(pattern, string))"
   ]
  },
  {
   "cell_type": "markdown",
   "metadata": {},
   "source": [
    "#### Second example"
   ]
  },
  {
   "cell_type": "code",
   "execution_count": 2,
   "metadata": {},
   "outputs": [],
   "source": [
    "import re"
   ]
  },
  {
   "cell_type": "code",
   "execution_count": 6,
   "metadata": {},
   "outputs": [
    {
     "name": "stdout",
     "output_type": "stream",
     "text": [
      "None\n",
      "<re.Match object; span=(4, 23), match='ww.es.wikipedia.org'>\n"
     ]
    }
   ],
   "source": [
    "pattern = \"(http?://)?[a-z0-9._-]+[a-z0-9]\\.(com|org|fr)\" #\"\\.(com|fr)\"\n",
    "\n",
    "string = \"    ww.es.wikipedia.org\"\n",
    "\n",
    "print(re.match(pattern, string))\n",
    "print(re.search(pattern, string))"
   ]
  },
  {
   "cell_type": "code",
   "execution_count": 4,
   "metadata": {},
   "outputs": [
    {
     "name": "stdout",
     "output_type": "stream",
     "text": [
      "<re.Match object; span=(4, 7), match='cat'>\n",
      "None\n"
     ]
    }
   ],
   "source": [
    "string = \"the cat is in the hood\"\n",
    "string2 = \"catastrophe\"\n",
    "\n",
    "pattern = r\"\\bcat\\b\"\n",
    "\n",
    "print(re.search(pattern, string))\n",
    "print(re.search(pattern, string2))"
   ]
  },
  {
   "cell_type": "code",
   "execution_count": 68,
   "metadata": {},
   "outputs": [
    {
     "name": "stdout",
     "output_type": "stream",
     "text": [
      "c\n",
      "a\\bc\n"
     ]
    }
   ],
   "source": [
    "print(\"a\\bc\")\n",
    "print(r\"a\\bc\")"
   ]
  },
  {
   "cell_type": "markdown",
   "metadata": {},
   "source": [
    "#### Third example"
   ]
  },
  {
   "cell_type": "code",
   "execution_count": 7,
   "metadata": {},
   "outputs": [],
   "source": [
    "import re"
   ]
  },
  {
   "cell_type": "code",
   "execution_count": 20,
   "metadata": {},
   "outputs": [
    {
     "name": "stdout",
     "output_type": "stream",
     "text": [
      "the man is smarter and taller\n",
      "the man is more smart and more tall\n"
     ]
    }
   ],
   "source": [
    "pattern = r\"\\b(\\w+)er\"\n",
    "repl = r\"more \\1\"\n",
    "\n",
    "string = \"the man is smarter and taller\"\n",
    "print(string)\n",
    "\n",
    "#print(re.search(pattern, string))\n",
    "\n",
    "string2 = re.sub(pattern, repl, string)\n",
    "print(string2)"
   ]
  },
  {
   "cell_type": "markdown",
   "metadata": {},
   "source": [
    "### Decorators"
   ]
  },
  {
   "cell_type": "markdown",
   "metadata": {},
   "source": [
    "#### Simple example"
   ]
  },
  {
   "cell_type": "code",
   "execution_count": 2,
   "metadata": {},
   "outputs": [],
   "source": [
    "user = \"alpha\"\n",
    "password = \"mdp\""
   ]
  },
  {
   "cell_type": "code",
   "execution_count": 3,
   "metadata": {},
   "outputs": [],
   "source": [
    "def decorator(function):\n",
    "    \n",
    "    def check_user(*args):\n",
    "        if args[0] == \"alpha\":\n",
    "            function(*args)\n",
    "        else:\n",
    "            print(\"wrong user name\")\n",
    "    \n",
    "    return check_user\n",
    "\n",
    "@decorator\n",
    "def display_password(user):\n",
    "    print(\"the password is %s\" %password)"
   ]
  },
  {
   "cell_type": "code",
   "execution_count": 4,
   "metadata": {},
   "outputs": [
    {
     "name": "stdout",
     "output_type": "stream",
     "text": [
      "wrong user name\n"
     ]
    }
   ],
   "source": [
    "display_password(\"alpham\")"
   ]
  },
  {
   "cell_type": "markdown",
   "metadata": {},
   "source": [
    "#### Decorator tutorial"
   ]
  },
  {
   "cell_type": "markdown",
   "metadata": {},
   "source": [
    "https://www.python-course.eu/python3_decorators.php"
   ]
  },
  {
   "cell_type": "code",
   "execution_count": 68,
   "metadata": {},
   "outputs": [],
   "source": [
    "def a():\n",
    "    \n",
    "    def b():\n",
    "        print(\"hi! this is function b\")\n",
    "        print(\"thanks for calling me!\")\n",
    "        \n",
    "    print(\"this is function a\")\n",
    "    print(\"I'm calling function b now...\")\n",
    "    b()\n",
    "       "
   ]
  },
  {
   "cell_type": "code",
   "execution_count": 69,
   "metadata": {},
   "outputs": [
    {
     "name": "stdout",
     "output_type": "stream",
     "text": [
      "this is function a\n",
      "I'm calling function b now...\n",
      "hi! this is function b\n",
      "thanks for calling me!\n"
     ]
    }
   ],
   "source": [
    "a()"
   ]
  },
  {
   "cell_type": "code",
   "execution_count": 73,
   "metadata": {},
   "outputs": [],
   "source": [
    "def display_temperature_fahrenheit(temperature_celsius):\n",
    "    \n",
    "    def celsius_to_fahrenheit(celsius):\n",
    "        return celsius * 9/5 + 32\n",
    "    \n",
    "    display = \"the temperature is %.1f degree fahrenheit\" %celsius_to_fahrenheit(temperature_celsius)\n",
    "    return display\n"
   ]
  },
  {
   "cell_type": "code",
   "execution_count": 74,
   "metadata": {},
   "outputs": [
    {
     "data": {
      "text/plain": [
       "'the temperature is 69.8 degree fahrenheit'"
      ]
     },
     "execution_count": 74,
     "metadata": {},
     "output_type": "execute_result"
    }
   ],
   "source": [
    "display_temperature_fahrenheit(21)"
   ]
  },
  {
   "cell_type": "code",
   "execution_count": 29,
   "metadata": {},
   "outputs": [],
   "source": [
    "def g():\n",
    "    print(\"hi, this is function g\")\n",
    "    print(\"I'm happy to meet you!\")\n",
    "\n",
    "def f(func):\n",
    "    print(\"hi, this is function f\")\n",
    "    print(\"I am calling %s now...\" %func.__name__)\n",
    "    func()\n",
    "    "
   ]
  },
  {
   "cell_type": "code",
   "execution_count": 30,
   "metadata": {},
   "outputs": [
    {
     "name": "stdout",
     "output_type": "stream",
     "text": [
      "hi, this is function f\n",
      "I am calling g now...\n",
      "hi, this is function g\n",
      "I'm happy to meet you!\n"
     ]
    }
   ],
   "source": [
    "f(g)"
   ]
  },
  {
   "cell_type": "code",
   "execution_count": 32,
   "metadata": {},
   "outputs": [],
   "source": [
    "def f(x):\n",
    "    \n",
    "    def g(y):\n",
    "        return (x + y) * 2\n",
    "    \n",
    "    return g\n"
   ]
  },
  {
   "cell_type": "code",
   "execution_count": 33,
   "metadata": {},
   "outputs": [],
   "source": [
    "f_1 = f(1)"
   ]
  },
  {
   "cell_type": "code",
   "execution_count": 38,
   "metadata": {},
   "outputs": [
    {
     "name": "stdout",
     "output_type": "stream",
     "text": [
      "6\n",
      "6\n"
     ]
    }
   ],
   "source": [
    "print(f(1)(2))\n",
    "print(f_1(2))"
   ]
  },
  {
   "cell_type": "code",
   "execution_count": 38,
   "metadata": {},
   "outputs": [],
   "source": [
    "def polynomial2(a0, a1, a2):\n",
    "    \n",
    "    def polynomial2_parametered(x):\n",
    "        return a0 + a1*x + (a2 * x**2)\n",
    "    \n",
    "    return polynomial2_parametered\n"
   ]
  },
  {
   "cell_type": "code",
   "execution_count": 39,
   "metadata": {},
   "outputs": [],
   "source": [
    "f = polynomial2(-2, 2, 1)"
   ]
  },
  {
   "cell_type": "code",
   "execution_count": 40,
   "metadata": {},
   "outputs": [
    {
     "data": {
      "text/plain": [
       "6"
      ]
     },
     "execution_count": 40,
     "metadata": {},
     "output_type": "execute_result"
    }
   ],
   "source": [
    "f(2)"
   ]
  },
  {
   "cell_type": "code",
   "execution_count": 30,
   "metadata": {},
   "outputs": [],
   "source": [
    "def polynomial(*coefficients):\n",
    "    \n",
    "    \"\"\" defintion of a polynomial\n",
    "    \n",
    "    coefficients must be given in the order a0, a1, a2, etc. \n",
    "    polynom = a0 + a1*x + a2*x² + ...\n",
    "    \n",
    "    \"\"\"\n",
    "    \n",
    "    def polynomial_parametered(x):\n",
    "        y = 0\n",
    "        for i, coefficient in enumerate(coefficients):\n",
    "            y += coefficient * x**(i)\n",
    "        return y\n",
    "    \n",
    "    return polynomial_parametered\n",
    "    "
   ]
  },
  {
   "cell_type": "code",
   "execution_count": 41,
   "metadata": {},
   "outputs": [],
   "source": [
    "f_ = polynomial(-2, 2, 1)"
   ]
  },
  {
   "cell_type": "code",
   "execution_count": 43,
   "metadata": {},
   "outputs": [
    {
     "data": {
      "text/plain": [
       "6"
      ]
     },
     "execution_count": 43,
     "metadata": {},
     "output_type": "execute_result"
    }
   ],
   "source": [
    "f_(2)"
   ]
  },
  {
   "cell_type": "code",
   "execution_count": 5,
   "metadata": {},
   "outputs": [],
   "source": [
    "def decorator(function):\n",
    "    \n",
    "    \"\"\" decorator\n",
    "    \n",
    "    this function is used to modify another function\n",
    "    \"\"\"\n",
    "    \n",
    "    # wrapper\n",
    "    def wrapper(x):\n",
    "        print(\"call of the function %s with the argument %.f\" %(function.__name__, x))\n",
    "        print(function(x))\n",
    "        print(\"end of execution of the function\")\n",
    "    \n",
    "    return wrapper\n",
    "\n",
    "@decorator\n",
    "def multiply_tenfold(x):\n",
    "    return \"%.f multiplied by 10 equals to %.f\" %(x, x * 10)\n"
   ]
  },
  {
   "cell_type": "code",
   "execution_count": 6,
   "metadata": {},
   "outputs": [
    {
     "name": "stdout",
     "output_type": "stream",
     "text": [
      "call of the function multiply_tenfold with the argument 5\n",
      "5 multiplied by 10 equals to 50\n",
      "end of execution of the function\n"
     ]
    }
   ],
   "source": [
    "multiply_tenfold(5)"
   ]
  },
  {
   "cell_type": "code",
   "execution_count": 7,
   "metadata": {},
   "outputs": [],
   "source": [
    "@decorator\n",
    "def add_ten(x):\n",
    "    return \"%.f plus 10 equals to %.f\" %(x, x + 10)"
   ]
  },
  {
   "cell_type": "code",
   "execution_count": 8,
   "metadata": {},
   "outputs": [
    {
     "name": "stdout",
     "output_type": "stream",
     "text": [
      "call of the function add_ten with the argument 23\n",
      "23 plus 10 equals to 33\n",
      "end of execution of the function\n"
     ]
    }
   ],
   "source": [
    "add_ten(23)"
   ]
  },
  {
   "cell_type": "markdown",
   "metadata": {},
   "source": [
    "##### Factorial function decorated with a function that checks the argument"
   ]
  },
  {
   "cell_type": "code",
   "execution_count": 74,
   "metadata": {},
   "outputs": [],
   "source": [
    "# decorator\n",
    "def decorator_check_argument(function):\n",
    "    \n",
    "    \"\"\" this decorator check the argument of the decorated function \"\"\"\n",
    "    \n",
    "    # wrapper\n",
    "    def wrapper_check_argument(x):\n",
    "        if type(x) == int and x >= 0:\n",
    "            return function(x)\n",
    "        else:\n",
    "            raise ValueError(\"the argument is not zero or a positive integer\")\n",
    "            \n",
    "    # return wrapper\n",
    "    return wrapper_check_argument\n",
    "\n",
    "    \n",
    "@decorator_check_argument\n",
    "def factorial(x):\n",
    "    y = x\n",
    "    \n",
    "    if y > 1:\n",
    "        y = y * factorial(y - 1)\n",
    "    else:\n",
    "        y = 1\n",
    "        \n",
    "    return y"
   ]
  },
  {
   "cell_type": "code",
   "execution_count": 73,
   "metadata": {},
   "outputs": [
    {
     "name": "stdout",
     "output_type": "stream",
     "text": [
      "6\n"
     ]
    }
   ],
   "source": [
    "print(factorial(3))"
   ]
  },
  {
   "cell_type": "markdown",
   "metadata": {},
   "source": [
    "### List comprehension"
   ]
  },
  {
   "cell_type": "markdown",
   "metadata": {},
   "source": [
    "#### Simple example"
   ]
  },
  {
   "cell_type": "code",
   "execution_count": 76,
   "metadata": {},
   "outputs": [
    {
     "name": "stdout",
     "output_type": "stream",
     "text": [
      "[2, 6, 10]\n"
     ]
    }
   ],
   "source": [
    "integers = [1, 2, 3, 4, 5]\n",
    "\n",
    "list_integer = [n * 2 for n in integers if n % 2 == 1]\n",
    "print(list_integer)"
   ]
  },
  {
   "cell_type": "code",
   "execution_count": 10,
   "metadata": {},
   "outputs": [
    {
     "data": {
      "text/plain": [
       "['Charles']"
      ]
     },
     "execution_count": 10,
     "metadata": {},
     "output_type": "execute_result"
    }
   ],
   "source": [
    "names = ['Charles', 'Susan', 'Patrick', 'George', 'Carol']\n",
    "[name for name in names if name.startswith(\"C\") and 's' in name]"
   ]
  },
  {
   "cell_type": "code",
   "execution_count": 21,
   "metadata": {},
   "outputs": [],
   "source": [
    "dict1 = {\"name\": \"alpha\", \"age\": 45, \"heigth\": 185}"
   ]
  },
  {
   "cell_type": "code",
   "execution_count": 38,
   "metadata": {},
   "outputs": [
    {
     "ename": "SyntaxError",
     "evalue": "invalid syntax (<ipython-input-38-479cc390fb69>, line 1)",
     "output_type": "error",
     "traceback": [
      "\u001b[1;36m  File \u001b[1;32m\"<ipython-input-38-479cc390fb69>\"\u001b[1;36m, line \u001b[1;32m1\u001b[0m\n\u001b[1;33m    dict2 = {key: value for (key, value) in dict1.items() where type(key) == 'int'}\u001b[0m\n\u001b[1;37m                                                              ^\u001b[0m\n\u001b[1;31mSyntaxError\u001b[0m\u001b[1;31m:\u001b[0m invalid syntax\n"
     ]
    }
   ],
   "source": [
    "dict2 = {key: value for (key, value) in dict1.items() where type(key) == 'int'}"
   ]
  },
  {
   "cell_type": "code",
   "execution_count": 30,
   "metadata": {},
   "outputs": [
    {
     "name": "stdout",
     "output_type": "stream",
     "text": [
      "{'name': 'alpha', 'age': 45, 'heigth': 185}\n"
     ]
    }
   ],
   "source": [
    "print(dict2)"
   ]
  }
 ],
 "metadata": {
  "kernelspec": {
   "display_name": "Python 3",
   "language": "python",
   "name": "python3"
  },
  "language_info": {
   "codemirror_mode": {
    "name": "ipython",
    "version": 3
   },
   "file_extension": ".py",
   "mimetype": "text/x-python",
   "name": "python",
   "nbconvert_exporter": "python",
   "pygments_lexer": "ipython3",
   "version": "3.7.6"
  }
 },
 "nbformat": 4,
 "nbformat_minor": 4
}
